{
 "cells": [
  {
   "cell_type": "markdown",
   "id": "23e35ba6",
   "metadata": {},
   "source": [
    "## 1.Import necessary libraries and load the dataset and display random 5 samples. Check the info of the data and write your findings"
   ]
  },
  {
   "cell_type": "code",
   "execution_count": 1,
   "id": "82597d8d",
   "metadata": {
    "ExecuteTime": {
     "end_time": "2023-05-15T13:45:28.918613Z",
     "start_time": "2023-05-15T13:45:21.337939Z"
    }
   },
   "outputs": [],
   "source": [
    "#Importing the neccessary libraries need to the analysis for the given Dataset\n",
    "\n",
    "import pandas as pd\n",
    "import numpy as np\n",
    "import matplotlib.pyplot as plt\n",
    "import seaborn as sns"
   ]
  },
  {
   "cell_type": "code",
   "execution_count": 2,
   "id": "1ab4c270",
   "metadata": {
    "ExecuteTime": {
     "end_time": "2023-05-15T13:48:39.246910Z",
     "start_time": "2023-05-15T13:48:39.070202Z"
    }
   },
   "outputs": [
    {
     "data": {
      "text/html": [
       "<div>\n",
       "<style scoped>\n",
       "    .dataframe tbody tr th:only-of-type {\n",
       "        vertical-align: middle;\n",
       "    }\n",
       "\n",
       "    .dataframe tbody tr th {\n",
       "        vertical-align: top;\n",
       "    }\n",
       "\n",
       "    .dataframe thead th {\n",
       "        text-align: right;\n",
       "    }\n",
       "</style>\n",
       "<table border=\"1\" class=\"dataframe\">\n",
       "  <thead>\n",
       "    <tr style=\"text-align: right;\">\n",
       "      <th></th>\n",
       "      <th>age</th>\n",
       "      <th>workclass</th>\n",
       "      <th>fnlwgt</th>\n",
       "      <th>education</th>\n",
       "      <th>education.num</th>\n",
       "      <th>marital.status</th>\n",
       "      <th>occupation</th>\n",
       "      <th>relationship</th>\n",
       "      <th>race</th>\n",
       "      <th>sex</th>\n",
       "      <th>capital.gain</th>\n",
       "      <th>capital.loss</th>\n",
       "      <th>hours.per.week</th>\n",
       "      <th>native.country</th>\n",
       "      <th>income</th>\n",
       "    </tr>\n",
       "  </thead>\n",
       "  <tbody>\n",
       "    <tr>\n",
       "      <th>0</th>\n",
       "      <td>90</td>\n",
       "      <td>?</td>\n",
       "      <td>77053</td>\n",
       "      <td>HS-grad</td>\n",
       "      <td>9</td>\n",
       "      <td>Widowed</td>\n",
       "      <td>?</td>\n",
       "      <td>Not-in-family</td>\n",
       "      <td>White</td>\n",
       "      <td>Female</td>\n",
       "      <td>0</td>\n",
       "      <td>4356</td>\n",
       "      <td>40</td>\n",
       "      <td>United-States</td>\n",
       "      <td>&lt;=50K</td>\n",
       "    </tr>\n",
       "    <tr>\n",
       "      <th>1</th>\n",
       "      <td>82</td>\n",
       "      <td>Private</td>\n",
       "      <td>132870</td>\n",
       "      <td>HS-grad</td>\n",
       "      <td>9</td>\n",
       "      <td>Widowed</td>\n",
       "      <td>Exec-managerial</td>\n",
       "      <td>Not-in-family</td>\n",
       "      <td>White</td>\n",
       "      <td>Female</td>\n",
       "      <td>0</td>\n",
       "      <td>4356</td>\n",
       "      <td>18</td>\n",
       "      <td>United-States</td>\n",
       "      <td>&lt;=50K</td>\n",
       "    </tr>\n",
       "    <tr>\n",
       "      <th>2</th>\n",
       "      <td>66</td>\n",
       "      <td>?</td>\n",
       "      <td>186061</td>\n",
       "      <td>Some-college</td>\n",
       "      <td>10</td>\n",
       "      <td>Widowed</td>\n",
       "      <td>?</td>\n",
       "      <td>Unmarried</td>\n",
       "      <td>Black</td>\n",
       "      <td>Female</td>\n",
       "      <td>0</td>\n",
       "      <td>4356</td>\n",
       "      <td>40</td>\n",
       "      <td>United-States</td>\n",
       "      <td>&lt;=50K</td>\n",
       "    </tr>\n",
       "    <tr>\n",
       "      <th>3</th>\n",
       "      <td>54</td>\n",
       "      <td>Private</td>\n",
       "      <td>140359</td>\n",
       "      <td>7th-8th</td>\n",
       "      <td>4</td>\n",
       "      <td>Divorced</td>\n",
       "      <td>Machine-op-inspct</td>\n",
       "      <td>Unmarried</td>\n",
       "      <td>White</td>\n",
       "      <td>Female</td>\n",
       "      <td>0</td>\n",
       "      <td>3900</td>\n",
       "      <td>40</td>\n",
       "      <td>United-States</td>\n",
       "      <td>&lt;=50K</td>\n",
       "    </tr>\n",
       "    <tr>\n",
       "      <th>4</th>\n",
       "      <td>41</td>\n",
       "      <td>Private</td>\n",
       "      <td>264663</td>\n",
       "      <td>Some-college</td>\n",
       "      <td>10</td>\n",
       "      <td>Separated</td>\n",
       "      <td>Prof-specialty</td>\n",
       "      <td>Own-child</td>\n",
       "      <td>White</td>\n",
       "      <td>Female</td>\n",
       "      <td>0</td>\n",
       "      <td>3900</td>\n",
       "      <td>40</td>\n",
       "      <td>United-States</td>\n",
       "      <td>&lt;=50K</td>\n",
       "    </tr>\n",
       "    <tr>\n",
       "      <th>...</th>\n",
       "      <td>...</td>\n",
       "      <td>...</td>\n",
       "      <td>...</td>\n",
       "      <td>...</td>\n",
       "      <td>...</td>\n",
       "      <td>...</td>\n",
       "      <td>...</td>\n",
       "      <td>...</td>\n",
       "      <td>...</td>\n",
       "      <td>...</td>\n",
       "      <td>...</td>\n",
       "      <td>...</td>\n",
       "      <td>...</td>\n",
       "      <td>...</td>\n",
       "      <td>...</td>\n",
       "    </tr>\n",
       "    <tr>\n",
       "      <th>32556</th>\n",
       "      <td>22</td>\n",
       "      <td>Private</td>\n",
       "      <td>310152</td>\n",
       "      <td>Some-college</td>\n",
       "      <td>10</td>\n",
       "      <td>Never-married</td>\n",
       "      <td>Protective-serv</td>\n",
       "      <td>Not-in-family</td>\n",
       "      <td>White</td>\n",
       "      <td>Male</td>\n",
       "      <td>0</td>\n",
       "      <td>0</td>\n",
       "      <td>40</td>\n",
       "      <td>United-States</td>\n",
       "      <td>&lt;=50K</td>\n",
       "    </tr>\n",
       "    <tr>\n",
       "      <th>32557</th>\n",
       "      <td>27</td>\n",
       "      <td>Private</td>\n",
       "      <td>257302</td>\n",
       "      <td>Assoc-acdm</td>\n",
       "      <td>12</td>\n",
       "      <td>Married-civ-spouse</td>\n",
       "      <td>Tech-support</td>\n",
       "      <td>Wife</td>\n",
       "      <td>White</td>\n",
       "      <td>Female</td>\n",
       "      <td>0</td>\n",
       "      <td>0</td>\n",
       "      <td>38</td>\n",
       "      <td>United-States</td>\n",
       "      <td>&lt;=50K</td>\n",
       "    </tr>\n",
       "    <tr>\n",
       "      <th>32558</th>\n",
       "      <td>40</td>\n",
       "      <td>Private</td>\n",
       "      <td>154374</td>\n",
       "      <td>HS-grad</td>\n",
       "      <td>9</td>\n",
       "      <td>Married-civ-spouse</td>\n",
       "      <td>Machine-op-inspct</td>\n",
       "      <td>Husband</td>\n",
       "      <td>White</td>\n",
       "      <td>Male</td>\n",
       "      <td>0</td>\n",
       "      <td>0</td>\n",
       "      <td>40</td>\n",
       "      <td>United-States</td>\n",
       "      <td>&gt;50K</td>\n",
       "    </tr>\n",
       "    <tr>\n",
       "      <th>32559</th>\n",
       "      <td>58</td>\n",
       "      <td>Private</td>\n",
       "      <td>151910</td>\n",
       "      <td>HS-grad</td>\n",
       "      <td>9</td>\n",
       "      <td>Widowed</td>\n",
       "      <td>Adm-clerical</td>\n",
       "      <td>Unmarried</td>\n",
       "      <td>White</td>\n",
       "      <td>Female</td>\n",
       "      <td>0</td>\n",
       "      <td>0</td>\n",
       "      <td>40</td>\n",
       "      <td>United-States</td>\n",
       "      <td>&lt;=50K</td>\n",
       "    </tr>\n",
       "    <tr>\n",
       "      <th>32560</th>\n",
       "      <td>22</td>\n",
       "      <td>Private</td>\n",
       "      <td>201490</td>\n",
       "      <td>HS-grad</td>\n",
       "      <td>9</td>\n",
       "      <td>Never-married</td>\n",
       "      <td>Adm-clerical</td>\n",
       "      <td>Own-child</td>\n",
       "      <td>White</td>\n",
       "      <td>Male</td>\n",
       "      <td>0</td>\n",
       "      <td>0</td>\n",
       "      <td>20</td>\n",
       "      <td>United-States</td>\n",
       "      <td>&lt;=50K</td>\n",
       "    </tr>\n",
       "  </tbody>\n",
       "</table>\n",
       "<p>32561 rows × 15 columns</p>\n",
       "</div>"
      ],
      "text/plain": [
       "       age workclass  fnlwgt     education  education.num      marital.status  \\\n",
       "0       90         ?   77053       HS-grad              9             Widowed   \n",
       "1       82   Private  132870       HS-grad              9             Widowed   \n",
       "2       66         ?  186061  Some-college             10             Widowed   \n",
       "3       54   Private  140359       7th-8th              4            Divorced   \n",
       "4       41   Private  264663  Some-college             10           Separated   \n",
       "...    ...       ...     ...           ...            ...                 ...   \n",
       "32556   22   Private  310152  Some-college             10       Never-married   \n",
       "32557   27   Private  257302    Assoc-acdm             12  Married-civ-spouse   \n",
       "32558   40   Private  154374       HS-grad              9  Married-civ-spouse   \n",
       "32559   58   Private  151910       HS-grad              9             Widowed   \n",
       "32560   22   Private  201490       HS-grad              9       Never-married   \n",
       "\n",
       "              occupation   relationship   race     sex  capital.gain  \\\n",
       "0                      ?  Not-in-family  White  Female             0   \n",
       "1        Exec-managerial  Not-in-family  White  Female             0   \n",
       "2                      ?      Unmarried  Black  Female             0   \n",
       "3      Machine-op-inspct      Unmarried  White  Female             0   \n",
       "4         Prof-specialty      Own-child  White  Female             0   \n",
       "...                  ...            ...    ...     ...           ...   \n",
       "32556    Protective-serv  Not-in-family  White    Male             0   \n",
       "32557       Tech-support           Wife  White  Female             0   \n",
       "32558  Machine-op-inspct        Husband  White    Male             0   \n",
       "32559       Adm-clerical      Unmarried  White  Female             0   \n",
       "32560       Adm-clerical      Own-child  White    Male             0   \n",
       "\n",
       "       capital.loss  hours.per.week native.country income  \n",
       "0              4356              40  United-States  <=50K  \n",
       "1              4356              18  United-States  <=50K  \n",
       "2              4356              40  United-States  <=50K  \n",
       "3              3900              40  United-States  <=50K  \n",
       "4              3900              40  United-States  <=50K  \n",
       "...             ...             ...            ...    ...  \n",
       "32556             0              40  United-States  <=50K  \n",
       "32557             0              38  United-States  <=50K  \n",
       "32558             0              40  United-States   >50K  \n",
       "32559             0              40  United-States  <=50K  \n",
       "32560             0              20  United-States  <=50K  \n",
       "\n",
       "[32561 rows x 15 columns]"
      ]
     },
     "execution_count": 2,
     "metadata": {},
     "output_type": "execute_result"
    }
   ],
   "source": [
    "#Reading the Data from the .csv file and store it as a dataframe using pandas. \n",
    "\n",
    "adult_df=pd.read_csv(\"C:\\\\Users\\\\gurum\\\\Downloads\\\\adult.csv\")\n",
    "adult_df"
   ]
  },
  {
   "cell_type": "markdown",
   "id": "13da5ad8",
   "metadata": {},
   "source": [
    "## • Loading the dataset into jupyter notebook and convert it to Data Frame."
   ]
  },
  {
   "cell_type": "code",
   "execution_count": 3,
   "id": "bc4316c6",
   "metadata": {
    "ExecuteTime": {
     "end_time": "2023-05-15T13:49:17.965641Z",
     "start_time": "2023-05-15T13:49:17.916423Z"
    }
   },
   "outputs": [
    {
     "data": {
      "text/html": [
       "<div>\n",
       "<style scoped>\n",
       "    .dataframe tbody tr th:only-of-type {\n",
       "        vertical-align: middle;\n",
       "    }\n",
       "\n",
       "    .dataframe tbody tr th {\n",
       "        vertical-align: top;\n",
       "    }\n",
       "\n",
       "    .dataframe thead th {\n",
       "        text-align: right;\n",
       "    }\n",
       "</style>\n",
       "<table border=\"1\" class=\"dataframe\">\n",
       "  <thead>\n",
       "    <tr style=\"text-align: right;\">\n",
       "      <th></th>\n",
       "      <th>age</th>\n",
       "      <th>workclass</th>\n",
       "      <th>fnlwgt</th>\n",
       "      <th>education</th>\n",
       "      <th>education.num</th>\n",
       "      <th>marital.status</th>\n",
       "      <th>occupation</th>\n",
       "      <th>relationship</th>\n",
       "      <th>race</th>\n",
       "      <th>sex</th>\n",
       "      <th>capital.gain</th>\n",
       "      <th>capital.loss</th>\n",
       "      <th>hours.per.week</th>\n",
       "      <th>native.country</th>\n",
       "      <th>income</th>\n",
       "    </tr>\n",
       "  </thead>\n",
       "  <tbody>\n",
       "    <tr>\n",
       "      <th>0</th>\n",
       "      <td>90</td>\n",
       "      <td>NaN</td>\n",
       "      <td>77053</td>\n",
       "      <td>HS-grad</td>\n",
       "      <td>9</td>\n",
       "      <td>Widowed</td>\n",
       "      <td>NaN</td>\n",
       "      <td>Not-in-family</td>\n",
       "      <td>White</td>\n",
       "      <td>Female</td>\n",
       "      <td>0</td>\n",
       "      <td>4356</td>\n",
       "      <td>40</td>\n",
       "      <td>United-States</td>\n",
       "      <td>&lt;=50K</td>\n",
       "    </tr>\n",
       "    <tr>\n",
       "      <th>1</th>\n",
       "      <td>82</td>\n",
       "      <td>Private</td>\n",
       "      <td>132870</td>\n",
       "      <td>HS-grad</td>\n",
       "      <td>9</td>\n",
       "      <td>Widowed</td>\n",
       "      <td>Exec-managerial</td>\n",
       "      <td>Not-in-family</td>\n",
       "      <td>White</td>\n",
       "      <td>Female</td>\n",
       "      <td>0</td>\n",
       "      <td>4356</td>\n",
       "      <td>18</td>\n",
       "      <td>United-States</td>\n",
       "      <td>&lt;=50K</td>\n",
       "    </tr>\n",
       "    <tr>\n",
       "      <th>2</th>\n",
       "      <td>66</td>\n",
       "      <td>NaN</td>\n",
       "      <td>186061</td>\n",
       "      <td>Some-college</td>\n",
       "      <td>10</td>\n",
       "      <td>Widowed</td>\n",
       "      <td>NaN</td>\n",
       "      <td>Unmarried</td>\n",
       "      <td>Black</td>\n",
       "      <td>Female</td>\n",
       "      <td>0</td>\n",
       "      <td>4356</td>\n",
       "      <td>40</td>\n",
       "      <td>United-States</td>\n",
       "      <td>&lt;=50K</td>\n",
       "    </tr>\n",
       "    <tr>\n",
       "      <th>3</th>\n",
       "      <td>54</td>\n",
       "      <td>Private</td>\n",
       "      <td>140359</td>\n",
       "      <td>7th-8th</td>\n",
       "      <td>4</td>\n",
       "      <td>Divorced</td>\n",
       "      <td>Machine-op-inspct</td>\n",
       "      <td>Unmarried</td>\n",
       "      <td>White</td>\n",
       "      <td>Female</td>\n",
       "      <td>0</td>\n",
       "      <td>3900</td>\n",
       "      <td>40</td>\n",
       "      <td>United-States</td>\n",
       "      <td>&lt;=50K</td>\n",
       "    </tr>\n",
       "    <tr>\n",
       "      <th>4</th>\n",
       "      <td>41</td>\n",
       "      <td>Private</td>\n",
       "      <td>264663</td>\n",
       "      <td>Some-college</td>\n",
       "      <td>10</td>\n",
       "      <td>Separated</td>\n",
       "      <td>Prof-specialty</td>\n",
       "      <td>Own-child</td>\n",
       "      <td>White</td>\n",
       "      <td>Female</td>\n",
       "      <td>0</td>\n",
       "      <td>3900</td>\n",
       "      <td>40</td>\n",
       "      <td>United-States</td>\n",
       "      <td>&lt;=50K</td>\n",
       "    </tr>\n",
       "    <tr>\n",
       "      <th>...</th>\n",
       "      <td>...</td>\n",
       "      <td>...</td>\n",
       "      <td>...</td>\n",
       "      <td>...</td>\n",
       "      <td>...</td>\n",
       "      <td>...</td>\n",
       "      <td>...</td>\n",
       "      <td>...</td>\n",
       "      <td>...</td>\n",
       "      <td>...</td>\n",
       "      <td>...</td>\n",
       "      <td>...</td>\n",
       "      <td>...</td>\n",
       "      <td>...</td>\n",
       "      <td>...</td>\n",
       "    </tr>\n",
       "    <tr>\n",
       "      <th>32556</th>\n",
       "      <td>22</td>\n",
       "      <td>Private</td>\n",
       "      <td>310152</td>\n",
       "      <td>Some-college</td>\n",
       "      <td>10</td>\n",
       "      <td>Never-married</td>\n",
       "      <td>Protective-serv</td>\n",
       "      <td>Not-in-family</td>\n",
       "      <td>White</td>\n",
       "      <td>Male</td>\n",
       "      <td>0</td>\n",
       "      <td>0</td>\n",
       "      <td>40</td>\n",
       "      <td>United-States</td>\n",
       "      <td>&lt;=50K</td>\n",
       "    </tr>\n",
       "    <tr>\n",
       "      <th>32557</th>\n",
       "      <td>27</td>\n",
       "      <td>Private</td>\n",
       "      <td>257302</td>\n",
       "      <td>Assoc-acdm</td>\n",
       "      <td>12</td>\n",
       "      <td>Married-civ-spouse</td>\n",
       "      <td>Tech-support</td>\n",
       "      <td>Wife</td>\n",
       "      <td>White</td>\n",
       "      <td>Female</td>\n",
       "      <td>0</td>\n",
       "      <td>0</td>\n",
       "      <td>38</td>\n",
       "      <td>United-States</td>\n",
       "      <td>&lt;=50K</td>\n",
       "    </tr>\n",
       "    <tr>\n",
       "      <th>32558</th>\n",
       "      <td>40</td>\n",
       "      <td>Private</td>\n",
       "      <td>154374</td>\n",
       "      <td>HS-grad</td>\n",
       "      <td>9</td>\n",
       "      <td>Married-civ-spouse</td>\n",
       "      <td>Machine-op-inspct</td>\n",
       "      <td>Husband</td>\n",
       "      <td>White</td>\n",
       "      <td>Male</td>\n",
       "      <td>0</td>\n",
       "      <td>0</td>\n",
       "      <td>40</td>\n",
       "      <td>United-States</td>\n",
       "      <td>&gt;50K</td>\n",
       "    </tr>\n",
       "    <tr>\n",
       "      <th>32559</th>\n",
       "      <td>58</td>\n",
       "      <td>Private</td>\n",
       "      <td>151910</td>\n",
       "      <td>HS-grad</td>\n",
       "      <td>9</td>\n",
       "      <td>Widowed</td>\n",
       "      <td>Adm-clerical</td>\n",
       "      <td>Unmarried</td>\n",
       "      <td>White</td>\n",
       "      <td>Female</td>\n",
       "      <td>0</td>\n",
       "      <td>0</td>\n",
       "      <td>40</td>\n",
       "      <td>United-States</td>\n",
       "      <td>&lt;=50K</td>\n",
       "    </tr>\n",
       "    <tr>\n",
       "      <th>32560</th>\n",
       "      <td>22</td>\n",
       "      <td>Private</td>\n",
       "      <td>201490</td>\n",
       "      <td>HS-grad</td>\n",
       "      <td>9</td>\n",
       "      <td>Never-married</td>\n",
       "      <td>Adm-clerical</td>\n",
       "      <td>Own-child</td>\n",
       "      <td>White</td>\n",
       "      <td>Male</td>\n",
       "      <td>0</td>\n",
       "      <td>0</td>\n",
       "      <td>20</td>\n",
       "      <td>United-States</td>\n",
       "      <td>&lt;=50K</td>\n",
       "    </tr>\n",
       "  </tbody>\n",
       "</table>\n",
       "<p>32561 rows × 15 columns</p>\n",
       "</div>"
      ],
      "text/plain": [
       "       age workclass  fnlwgt     education  education.num      marital.status  \\\n",
       "0       90       NaN   77053       HS-grad              9             Widowed   \n",
       "1       82   Private  132870       HS-grad              9             Widowed   \n",
       "2       66       NaN  186061  Some-college             10             Widowed   \n",
       "3       54   Private  140359       7th-8th              4            Divorced   \n",
       "4       41   Private  264663  Some-college             10           Separated   \n",
       "...    ...       ...     ...           ...            ...                 ...   \n",
       "32556   22   Private  310152  Some-college             10       Never-married   \n",
       "32557   27   Private  257302    Assoc-acdm             12  Married-civ-spouse   \n",
       "32558   40   Private  154374       HS-grad              9  Married-civ-spouse   \n",
       "32559   58   Private  151910       HS-grad              9             Widowed   \n",
       "32560   22   Private  201490       HS-grad              9       Never-married   \n",
       "\n",
       "              occupation   relationship   race     sex  capital.gain  \\\n",
       "0                    NaN  Not-in-family  White  Female             0   \n",
       "1        Exec-managerial  Not-in-family  White  Female             0   \n",
       "2                    NaN      Unmarried  Black  Female             0   \n",
       "3      Machine-op-inspct      Unmarried  White  Female             0   \n",
       "4         Prof-specialty      Own-child  White  Female             0   \n",
       "...                  ...            ...    ...     ...           ...   \n",
       "32556    Protective-serv  Not-in-family  White    Male             0   \n",
       "32557       Tech-support           Wife  White  Female             0   \n",
       "32558  Machine-op-inspct        Husband  White    Male             0   \n",
       "32559       Adm-clerical      Unmarried  White  Female             0   \n",
       "32560       Adm-clerical      Own-child  White    Male             0   \n",
       "\n",
       "       capital.loss  hours.per.week native.country income  \n",
       "0              4356              40  United-States  <=50K  \n",
       "1              4356              18  United-States  <=50K  \n",
       "2              4356              40  United-States  <=50K  \n",
       "3              3900              40  United-States  <=50K  \n",
       "4              3900              40  United-States  <=50K  \n",
       "...             ...             ...            ...    ...  \n",
       "32556             0              40  United-States  <=50K  \n",
       "32557             0              38  United-States  <=50K  \n",
       "32558             0              40  United-States   >50K  \n",
       "32559             0              40  United-States  <=50K  \n",
       "32560             0              20  United-States  <=50K  \n",
       "\n",
       "[32561 rows x 15 columns]"
      ]
     },
     "execution_count": 3,
     "metadata": {},
     "output_type": "execute_result"
    }
   ],
   "source": [
    "#Replacing the Missing values with the Nan in the dataset\n",
    "\n",
    "adult_df=adult_df.replace('?',np.nan)\n",
    "adult_df"
   ]
  },
  {
   "cell_type": "markdown",
   "id": "80e43233",
   "metadata": {},
   "source": [
    "## Replacing the Missing values with the Nan in the dataset"
   ]
  },
  {
   "cell_type": "code",
   "execution_count": 4,
   "id": "e50d5283",
   "metadata": {
    "ExecuteTime": {
     "end_time": "2023-05-15T13:49:46.839184Z",
     "start_time": "2023-05-15T13:49:46.819441Z"
    }
   },
   "outputs": [
    {
     "data": {
      "text/html": [
       "<div>\n",
       "<style scoped>\n",
       "    .dataframe tbody tr th:only-of-type {\n",
       "        vertical-align: middle;\n",
       "    }\n",
       "\n",
       "    .dataframe tbody tr th {\n",
       "        vertical-align: top;\n",
       "    }\n",
       "\n",
       "    .dataframe thead th {\n",
       "        text-align: right;\n",
       "    }\n",
       "</style>\n",
       "<table border=\"1\" class=\"dataframe\">\n",
       "  <thead>\n",
       "    <tr style=\"text-align: right;\">\n",
       "      <th></th>\n",
       "      <th>age</th>\n",
       "      <th>workclass</th>\n",
       "      <th>fnlwgt</th>\n",
       "      <th>education</th>\n",
       "      <th>education.num</th>\n",
       "      <th>marital.status</th>\n",
       "      <th>occupation</th>\n",
       "      <th>relationship</th>\n",
       "      <th>race</th>\n",
       "      <th>sex</th>\n",
       "      <th>capital.gain</th>\n",
       "      <th>capital.loss</th>\n",
       "      <th>hours.per.week</th>\n",
       "      <th>native.country</th>\n",
       "      <th>income</th>\n",
       "    </tr>\n",
       "  </thead>\n",
       "  <tbody>\n",
       "    <tr>\n",
       "      <th>0</th>\n",
       "      <td>90</td>\n",
       "      <td>NaN</td>\n",
       "      <td>77053</td>\n",
       "      <td>HS-grad</td>\n",
       "      <td>9</td>\n",
       "      <td>Widowed</td>\n",
       "      <td>NaN</td>\n",
       "      <td>Not-in-family</td>\n",
       "      <td>White</td>\n",
       "      <td>Female</td>\n",
       "      <td>0</td>\n",
       "      <td>4356</td>\n",
       "      <td>40</td>\n",
       "      <td>United-States</td>\n",
       "      <td>&lt;=50K</td>\n",
       "    </tr>\n",
       "    <tr>\n",
       "      <th>1</th>\n",
       "      <td>82</td>\n",
       "      <td>Private</td>\n",
       "      <td>132870</td>\n",
       "      <td>HS-grad</td>\n",
       "      <td>9</td>\n",
       "      <td>Widowed</td>\n",
       "      <td>Exec-managerial</td>\n",
       "      <td>Not-in-family</td>\n",
       "      <td>White</td>\n",
       "      <td>Female</td>\n",
       "      <td>0</td>\n",
       "      <td>4356</td>\n",
       "      <td>18</td>\n",
       "      <td>United-States</td>\n",
       "      <td>&lt;=50K</td>\n",
       "    </tr>\n",
       "    <tr>\n",
       "      <th>2</th>\n",
       "      <td>66</td>\n",
       "      <td>NaN</td>\n",
       "      <td>186061</td>\n",
       "      <td>Some-college</td>\n",
       "      <td>10</td>\n",
       "      <td>Widowed</td>\n",
       "      <td>NaN</td>\n",
       "      <td>Unmarried</td>\n",
       "      <td>Black</td>\n",
       "      <td>Female</td>\n",
       "      <td>0</td>\n",
       "      <td>4356</td>\n",
       "      <td>40</td>\n",
       "      <td>United-States</td>\n",
       "      <td>&lt;=50K</td>\n",
       "    </tr>\n",
       "    <tr>\n",
       "      <th>3</th>\n",
       "      <td>54</td>\n",
       "      <td>Private</td>\n",
       "      <td>140359</td>\n",
       "      <td>7th-8th</td>\n",
       "      <td>4</td>\n",
       "      <td>Divorced</td>\n",
       "      <td>Machine-op-inspct</td>\n",
       "      <td>Unmarried</td>\n",
       "      <td>White</td>\n",
       "      <td>Female</td>\n",
       "      <td>0</td>\n",
       "      <td>3900</td>\n",
       "      <td>40</td>\n",
       "      <td>United-States</td>\n",
       "      <td>&lt;=50K</td>\n",
       "    </tr>\n",
       "    <tr>\n",
       "      <th>4</th>\n",
       "      <td>41</td>\n",
       "      <td>Private</td>\n",
       "      <td>264663</td>\n",
       "      <td>Some-college</td>\n",
       "      <td>10</td>\n",
       "      <td>Separated</td>\n",
       "      <td>Prof-specialty</td>\n",
       "      <td>Own-child</td>\n",
       "      <td>White</td>\n",
       "      <td>Female</td>\n",
       "      <td>0</td>\n",
       "      <td>3900</td>\n",
       "      <td>40</td>\n",
       "      <td>United-States</td>\n",
       "      <td>&lt;=50K</td>\n",
       "    </tr>\n",
       "  </tbody>\n",
       "</table>\n",
       "</div>"
      ],
      "text/plain": [
       "   age workclass  fnlwgt     education  education.num marital.status  \\\n",
       "0   90       NaN   77053       HS-grad              9        Widowed   \n",
       "1   82   Private  132870       HS-grad              9        Widowed   \n",
       "2   66       NaN  186061  Some-college             10        Widowed   \n",
       "3   54   Private  140359       7th-8th              4       Divorced   \n",
       "4   41   Private  264663  Some-college             10      Separated   \n",
       "\n",
       "          occupation   relationship   race     sex  capital.gain  \\\n",
       "0                NaN  Not-in-family  White  Female             0   \n",
       "1    Exec-managerial  Not-in-family  White  Female             0   \n",
       "2                NaN      Unmarried  Black  Female             0   \n",
       "3  Machine-op-inspct      Unmarried  White  Female             0   \n",
       "4     Prof-specialty      Own-child  White  Female             0   \n",
       "\n",
       "   capital.loss  hours.per.week native.country income  \n",
       "0          4356              40  United-States  <=50K  \n",
       "1          4356              18  United-States  <=50K  \n",
       "2          4356              40  United-States  <=50K  \n",
       "3          3900              40  United-States  <=50K  \n",
       "4          3900              40  United-States  <=50K  "
      ]
     },
     "execution_count": 4,
     "metadata": {},
     "output_type": "execute_result"
    }
   ],
   "source": [
    "#Displaying the First Five records of the dataset\n",
    "\n",
    "adult_df.head()"
   ]
  },
  {
   "cell_type": "markdown",
   "id": "472ad730",
   "metadata": {},
   "source": [
    "## • Displaying the First Five samples of the Dataset."
   ]
  },
  {
   "cell_type": "code",
   "execution_count": 5,
   "id": "df8724fc",
   "metadata": {
    "ExecuteTime": {
     "end_time": "2023-05-15T13:50:28.247791Z",
     "start_time": "2023-05-15T13:50:28.129692Z"
    }
   },
   "outputs": [
    {
     "name": "stdout",
     "output_type": "stream",
     "text": [
      "<class 'pandas.core.frame.DataFrame'>\n",
      "RangeIndex: 32561 entries, 0 to 32560\n",
      "Data columns (total 15 columns):\n",
      " #   Column          Non-Null Count  Dtype \n",
      "---  ------          --------------  ----- \n",
      " 0   age             32561 non-null  int64 \n",
      " 1   workclass       30725 non-null  object\n",
      " 2   fnlwgt          32561 non-null  int64 \n",
      " 3   education       32561 non-null  object\n",
      " 4   education.num   32561 non-null  int64 \n",
      " 5   marital.status  32561 non-null  object\n",
      " 6   occupation      30718 non-null  object\n",
      " 7   relationship    32561 non-null  object\n",
      " 8   race            32561 non-null  object\n",
      " 9   sex             32561 non-null  object\n",
      " 10  capital.gain    32561 non-null  int64 \n",
      " 11  capital.loss    32561 non-null  int64 \n",
      " 12  hours.per.week  32561 non-null  int64 \n",
      " 13  native.country  31978 non-null  object\n",
      " 14  income          32561 non-null  object\n",
      "dtypes: int64(6), object(9)\n",
      "memory usage: 3.7+ MB\n"
     ]
    }
   ],
   "source": [
    "# Displaying the informations of the dataset like columns_name,Data_type of the column,count and memory occupies.\n",
    "\n",
    "adult_df.info()"
   ]
  },
  {
   "cell_type": "markdown",
   "id": "a9028863",
   "metadata": {},
   "source": [
    "## 1. There are 15 Columns in the data set and every column will not accept the null-values.\n",
    "## 2. There are both numerical and categorical variables are in the dataset.\n",
    "### Numerical variable columns:\n",
    "### • Age\n",
    "### • Fnlwgt\n",
    "### • Education.num\n",
    "### • Capital.gain\n",
    "### • Capital.loss\n",
    "### • Capital.loss\n",
    "### • Hours.per.week\n",
    "### Categorical variable columns:\n",
    "### • Workclass\n",
    "### • Education\n",
    "### • Marital.status\n",
    "### • Occupation\n",
    "### • Occupation\n",
    "### • Occupation\n",
    "### • Relationship\n",
    "### • Sex\n",
    "### • Race\n",
    "### • Native.Country\n",
    "### • Income\n",
    "## 2.What is the average age of males and females in the data?"
   ]
  },
  {
   "cell_type": "code",
   "execution_count": 6,
   "id": "c6606e77",
   "metadata": {
    "ExecuteTime": {
     "end_time": "2023-05-15T13:52:48.822364Z",
     "start_time": "2023-05-15T13:52:48.796574Z"
    }
   },
   "outputs": [
    {
     "data": {
      "text/plain": [
       "sex\n",
       "Female    36.858230\n",
       "Male      39.433547\n",
       "Name: age, dtype: float64"
      ]
     },
     "execution_count": 6,
     "metadata": {},
     "output_type": "execute_result"
    }
   ],
   "source": [
    "#Here we are grouping the Dataset by \"sex\" and finding out the mean value for the \"age\"\n",
    "\n",
    "adult_df.groupby(\"sex\")[\"age\"].mean()\n"
   ]
  },
  {
   "cell_type": "markdown",
   "id": "193e17b1",
   "metadata": {},
   "source": [
    "## From the dataset,\n",
    "### the average age for male is 39.43\n",
    "### the average age for female is 36.85\n",
    "## 3.Identify the qualifications of most of the individuals and display it using an appropriate plot?"
   ]
  },
  {
   "cell_type": "code",
   "execution_count": 7,
   "id": "9356ffca",
   "metadata": {
    "ExecuteTime": {
     "end_time": "2023-05-15T13:53:45.831088Z",
     "start_time": "2023-05-15T13:53:45.818771Z"
    }
   },
   "outputs": [
    {
     "data": {
      "text/plain": [
       "HS-grad         10501\n",
       "Some-college     7291\n",
       "Bachelors        5355\n",
       "Masters          1723\n",
       "Assoc-voc        1382\n",
       "11th             1175\n",
       "Assoc-acdm       1067\n",
       "10th              933\n",
       "7th-8th           646\n",
       "Prof-school       576\n",
       "9th               514\n",
       "12th              433\n",
       "Doctorate         413\n",
       "5th-6th           333\n",
       "1st-4th           168\n",
       "Preschool          51\n",
       "Name: education, dtype: int64"
      ]
     },
     "execution_count": 7,
     "metadata": {},
     "output_type": "execute_result"
    }
   ],
   "source": [
    "#Getting the count of the education qualification from the dataset\n",
    "\n",
    "edu_count=adult_df[\"education\"].value_counts()\n",
    "edu_count"
   ]
  },
  {
   "cell_type": "code",
   "execution_count": 8,
   "id": "4bbd60c1",
   "metadata": {
    "ExecuteTime": {
     "end_time": "2023-05-15T13:53:59.807692Z",
     "start_time": "2023-05-15T13:53:59.270726Z"
    }
   },
   "outputs": [
    {
     "data": {
      "text/plain": [
       "<AxesSubplot: >"
      ]
     },
     "execution_count": 8,
     "metadata": {},
     "output_type": "execute_result"
    },
    {
     "data": {
      "image/png": "[encoded data removed]",
      "text/plain": [
       "<Figure size 640x480 with 1 Axes>"
      ]
     },
     "metadata": {},
     "output_type": "display_data"
    }
   ],
   "source": [
    "#Plotting the bar graph for the education_count\n",
    "\n",
    "edu_count.plot.bar()"
   ]
  },
  {
   "cell_type": "markdown",
   "id": "2327e717",
   "metadata": {},
   "source": [
    "### From the bar chart, we can see that \"HS-Grad\" is the most possessed qualification of the individuals in the Data-set.\n",
    "## 4.Find the middle most observation of age for different working classes."
   ]
  },
  {
   "cell_type": "code",
   "execution_count": 9,
   "id": "8d767f14",
   "metadata": {
    "ExecuteTime": {
     "end_time": "2023-05-15T14:00:53.199819Z",
     "start_time": "2023-05-15T14:00:53.162830Z"
    }
   },
   "outputs": [
    {
     "data": {
      "text/plain": [
       "workclass\n",
       "Federal-gov         43.0\n",
       "Local-gov           41.0\n",
       "Never-worked        18.0\n",
       "Private             35.0\n",
       "Self-emp-inc        45.0\n",
       "Self-emp-not-inc    44.0\n",
       "State-gov           39.0\n",
       "Without-pay         57.0\n",
       "Name: age, dtype: float64"
      ]
     },
     "execution_count": 9,
     "metadata": {},
     "output_type": "execute_result"
    }
   ],
   "source": [
    "#Here we are grouping the Dataset by the \"WorkClass\" and Calculating the median value for the \"age\" on every work class.\n",
    "\n",
    "adult_df.groupby(\"workclass\")['age'].median()"
   ]
  },
  {
   "cell_type": "markdown",
   "id": "8c5e180e",
   "metadata": {},
   "source": [
    "### The above data shows the median value of age for the different working class.\n",
    "## 5.What is the percentage of the Asian-Pac-Islander race people in the data?"
   ]
  },
  {
   "cell_type": "code",
   "execution_count": 10,
   "id": "b77ba6cc",
   "metadata": {
    "ExecuteTime": {
     "end_time": "2023-05-15T14:01:33.651643Z",
     "start_time": "2023-05-15T14:01:33.636009Z"
    }
   },
   "outputs": [],
   "source": [
    "#Calculating the 'total' race count from the dataset\n",
    "\n",
    "total_count=adult_df[\"race\"].count()"
   ]
  },
  {
   "cell_type": "code",
   "execution_count": 11,
   "id": "730b56a1",
   "metadata": {
    "ExecuteTime": {
     "end_time": "2023-05-15T14:01:43.660806Z",
     "start_time": "2023-05-15T14:01:43.644837Z"
    }
   },
   "outputs": [],
   "source": [
    "#Calculating the 'Asian-pac-Islander' race count from the dataset\n",
    "\n",
    "API_race_count=adult_df[\"race\"].value_counts()['Asian-Pac-Islander']"
   ]
  },
  {
   "cell_type": "code",
   "execution_count": 12,
   "id": "8f7c0b06",
   "metadata": {
    "ExecuteTime": {
     "end_time": "2023-05-15T14:01:56.068680Z",
     "start_time": "2023-05-15T14:01:56.051905Z"
    }
   },
   "outputs": [
    {
     "name": "stdout",
     "output_type": "stream",
     "text": [
      "The percentage of the Asian-pac-Islander is 3.19 %\n"
     ]
    }
   ],
   "source": [
    "#calculating the percentage for the API race count in the Dataset\n",
    "\n",
    "percentage=(API_race_count/total_count)*100\n",
    "percent=round(percentage,2)\n",
    "print(\"The percentage of the Asian-pac-Islander is\",percent,\"%\")"
   ]
  },
  {
   "cell_type": "markdown",
   "id": "f6782eb0",
   "metadata": {},
   "source": [
    "### The percentage of the Asian-pac-Islander is 3.19%\n",
    "## 6.Which occupation has more variability in the working hours?"
   ]
  },
  {
   "cell_type": "code",
   "execution_count": 13,
   "id": "8e63d3f1",
   "metadata": {
    "ExecuteTime": {
     "end_time": "2023-05-15T14:02:38.648909Z",
     "start_time": "2023-05-15T14:02:38.631996Z"
    }
   },
   "outputs": [
    {
     "data": {
      "text/plain": [
       "occupation\n",
       "Farming-fishing      299.987814\n",
       "Priv-house-serv      261.939597\n",
       "Armed-Forces         198.000000\n",
       "Sales                175.202547\n",
       "Transport-moving     161.833503\n",
       "Other-service        161.442544\n",
       "Prof-specialty       157.159186\n",
       "Protective-serv      152.072728\n",
       "Exec-managerial      123.412395\n",
       "Tech-support         112.001859\n",
       "Handlers-cleaners    111.946104\n",
       "Adm-clerical          91.964888\n",
       "Craft-repair          81.939394\n",
       "Machine-op-inspct     57.648955\n",
       "Name: hours.per.week, dtype: float64"
      ]
     },
     "execution_count": 13,
     "metadata": {},
     "output_type": "execute_result"
    }
   ],
   "source": [
    "#Here we are grouping the dataset by \"occupation\" and calculating the variance for \"hours.per.week\"\n",
    "\n",
    "adult_df.groupby('occupation')['hours.per.week'].var().sort_values(ascending=False)"
   ]
  },
  {
   "cell_type": "markdown",
   "id": "92329594",
   "metadata": {},
   "source": [
    "### From the above variance details, we can see that the \"FARMING-FISHING\" has more variability in the working hours.\n",
    "## 7.What is the range of the middle 50% of working hours per week?"
   ]
  },
  {
   "cell_type": "code",
   "execution_count": 14,
   "id": "0c30ea78",
   "metadata": {
    "ExecuteTime": {
     "end_time": "2023-05-15T14:03:23.381355Z",
     "start_time": "2023-05-15T14:03:23.358650Z"
    }
   },
   "outputs": [
    {
     "data": {
      "text/plain": [
       "count    32561.000000\n",
       "mean        40.437456\n",
       "std         12.347429\n",
       "min          1.000000\n",
       "25%         40.000000\n",
       "50%         40.000000\n",
       "75%         45.000000\n",
       "max         99.000000\n",
       "Name: hours.per.week, dtype: float64"
      ]
     },
     "execution_count": 14,
     "metadata": {},
     "output_type": "execute_result"
    }
   ],
   "source": [
    "#Here we are describing the dataset and seeing the statistical details of the Data set.\n",
    "\n",
    "adult_df['hours.per.week'].describe()"
   ]
  },
  {
   "cell_type": "code",
   "execution_count": 15,
   "id": "ad95056c",
   "metadata": {
    "ExecuteTime": {
     "end_time": "2023-05-15T14:03:32.612920Z",
     "start_time": "2023-05-15T14:03:32.595933Z"
    }
   },
   "outputs": [
    {
     "name": "stdout",
     "output_type": "stream",
     "text": [
      "The Range for middle 50% is  5.0\n"
     ]
    }
   ],
   "source": [
    "#Here we are finding out the 25% and 50% inter-quantile for the \"hours.per.week\" and finding out the range for middle 50%.\n",
    "\n",
    "quantile1=adult_df['hours.per.week'].quantile(0.25)\n",
    "\n",
    "quantile3=adult_df['hours.per.week'].quantile(0.75)\n",
    "range50=quantile3-quantile1\n",
    "print(\"The Range for middle 50% is \",range50)"
   ]
  },
  {
   "cell_type": "markdown",
   "id": "46b5c76e",
   "metadata": {},
   "source": [
    "### The Range for middle 50% of working hours is 5\n",
    "## 8.Are there any negatively skewed features? Support your answer with a metric and the plot."
   ]
  },
  {
   "cell_type": "code",
   "execution_count": 16,
   "id": "56c94776",
   "metadata": {
    "ExecuteTime": {
     "end_time": "2023-05-15T14:04:10.113181Z",
     "start_time": "2023-05-15T14:04:10.032576Z"
    }
   },
   "outputs": [
    {
     "name": "stderr",
     "output_type": "stream",
     "text": [
      "C:\\Users\\gurum\\AppData\\Local\\Temp\\ipykernel_5864\\3956488778.py:3: FutureWarning: Dropping of nuisance columns in DataFrame reductions (with 'numeric_only=None') is deprecated; in a future version this will raise TypeError.  Select only valid columns before calling the reduction.\n",
      "  adult_df.skew(axis=0,skipna=True)\n"
     ]
    },
    {
     "data": {
      "text/plain": [
       "age                0.558743\n",
       "fnlwgt             1.446980\n",
       "education.num     -0.311676\n",
       "capital.gain      11.953848\n",
       "capital.loss       4.594629\n",
       "hours.per.week     0.227643\n",
       "dtype: float64"
      ]
     },
     "execution_count": 16,
     "metadata": {},
     "output_type": "execute_result"
    }
   ],
   "source": [
    "#Here we are Finding out the Skewness value for the numerical variable columns.\n",
    "\n",
    "adult_df.skew(axis=0,skipna=True)\n"
   ]
  },
  {
   "cell_type": "markdown",
   "id": "f5af8407",
   "metadata": {},
   "source": [
    "### From the above data, we can see that \"Education-num\" is Negatively Skewed feature."
   ]
  },
  {
   "cell_type": "code",
   "execution_count": 17,
   "id": "c91effb2",
   "metadata": {
    "ExecuteTime": {
     "end_time": "2023-05-15T14:04:44.374594Z",
     "start_time": "2023-05-15T14:04:43.048940Z"
    }
   },
   "outputs": [
    {
     "name": "stderr",
     "output_type": "stream",
     "text": [
      "C:\\Users\\gurum\\AppData\\Local\\Temp\\ipykernel_5864\\2807371106.py:4: UserWarning: \n",
      "\n",
      "`distplot` is a deprecated function and will be removed in seaborn v0.14.0.\n",
      "\n",
      "Please adapt your code to use either `displot` (a figure-level function with\n",
      "similar flexibility) or `histplot` (an axes-level function for histograms).\n",
      "\n",
      "For a guide to updating your code to use the new functions, please see\n",
      "https://gist.github.com/mwaskom/de44147ed2974457ad6372750bbe5751\n",
      "\n",
      "  sns.distplot(adult_df['education.num'])\n"
     ]
    },
    {
     "data": {
      "text/plain": [
       "<AxesSubplot: xlabel='education.num', ylabel='Density'>"
      ]
     },
     "execution_count": 17,
     "metadata": {},
     "output_type": "execute_result"
    },
    {
     "data": {
      "image/png": "[encoded data removed]",
      "text/plain": [
       "<Figure size 640x480 with 1 Axes>"
      ]
     },
     "metadata": {},
     "output_type": "display_data"
    }
   ],
   "source": [
    "#Here we are plotting the DISTPLOT for the \"Education.num\" Column using seaborn library.\n",
    "\n",
    "\n",
    "sns.distplot(adult_df['education.num'])"
   ]
  },
  {
   "cell_type": "markdown",
   "id": "ed369acc",
   "metadata": {},
   "source": [
    "### From the above plot, we can see that the tail of the distribution is Skewed towards Left. Hence \"Education.num\" is considered as a Negatively Skewed Feature\n",
    "## 9.Identify the presence of extreme values in age using visualization techniques."
   ]
  },
  {
   "cell_type": "code",
   "execution_count": 18,
   "id": "a4fcbbd7",
   "metadata": {
    "ExecuteTime": {
     "end_time": "2023-05-15T14:05:23.974694Z",
     "start_time": "2023-05-15T14:05:23.952636Z"
    }
   },
   "outputs": [
    {
     "data": {
      "text/plain": [
       "array([90, 82, 83, 81, 90, 80, 81, 90, 79, 90, 83, 79, 79, 80, 90, 90, 90,\n",
       "       90, 79, 90, 81, 90, 81, 79, 80, 90, 90, 79, 80, 81, 90, 88, 90, 90,\n",
       "       80, 90, 82, 79, 81, 83, 90, 79, 81, 90, 90, 80, 90, 79, 84, 80, 90,\n",
       "       81, 83, 84, 81, 79, 85, 82, 79, 84, 80, 90, 79, 84, 90, 79, 90, 90,\n",
       "       82, 81, 90, 84, 79, 81, 82, 80, 90, 80, 84, 79, 90, 84, 90, 83, 79,\n",
       "       81, 80, 80, 79, 80, 90, 90, 80, 90, 81, 83, 82, 90, 90, 80, 80, 90,\n",
       "       80, 82, 85, 80, 79, 90, 81, 80, 79, 82, 88, 90, 82, 88, 84, 79, 86,\n",
       "       90, 82, 81, 90, 80, 81, 79, 84, 84, 79, 90, 81, 81, 81, 90, 87, 90,\n",
       "       80, 80, 82, 90, 85, 82, 81], dtype=int64)"
      ]
     },
     "execution_count": 18,
     "metadata": {},
     "output_type": "execute_result"
    }
   ],
   "source": [
    "#Here we are listing out the extreme_values(OUTLIERS) in \"age\" by using the boxplot.\n",
    "\n",
    "from matplotlib import pyplot as plt\n",
    "from matplotlib.cbook import boxplot_stats\n",
    "boxplot_stats(adult_df.age).pop(0)['fliers']"
   ]
  },
  {
   "cell_type": "markdown",
   "id": "8fc32e99",
   "metadata": {},
   "source": [
    "### These are the Outliers Data in the \"age\" Column from the census income dataset"
   ]
  },
  {
   "cell_type": "code",
   "execution_count": 19,
   "id": "042545fb",
   "metadata": {
    "ExecuteTime": {
     "end_time": "2023-05-15T14:05:53.654676Z",
     "start_time": "2023-05-15T14:05:53.505739Z"
    }
   },
   "outputs": [
    {
     "data": {
      "text/plain": [
       "<AxesSubplot: >"
      ]
     },
     "execution_count": 19,
     "metadata": {},
     "output_type": "execute_result"
    },
    {
     "data": {
      "image/png": "[encoded data removed]",
      "text/plain": [
       "<Figure size 640x480 with 1 Axes>"
      ]
     },
     "metadata": {},
     "output_type": "display_data"
    }
   ],
   "source": [
    "#Here we are ploting the boxplot for the \"age\" column.\n",
    "\n",
    "adult_df['age'].plot(kind='box')"
   ]
  },
  {
   "cell_type": "markdown",
   "id": "8e866a25",
   "metadata": {},
   "source": [
    "### From the boxplot , we can see that the outliers Data from the given data-set.\n",
    "## 10.Is there any effect of age on the working hours of a person? Support your answer with a metric and the plot."
   ]
  },
  {
   "cell_type": "code",
   "execution_count": 20,
   "id": "2d66dcea",
   "metadata": {
    "ExecuteTime": {
     "end_time": "2023-05-15T14:06:30.925781Z",
     "start_time": "2023-05-15T14:06:30.898516Z"
    }
   },
   "outputs": [
    {
     "data": {
      "text/html": [
       "<div>\n",
       "<style scoped>\n",
       "    .dataframe tbody tr th:only-of-type {\n",
       "        vertical-align: middle;\n",
       "    }\n",
       "\n",
       "    .dataframe tbody tr th {\n",
       "        vertical-align: top;\n",
       "    }\n",
       "\n",
       "    .dataframe thead th {\n",
       "        text-align: right;\n",
       "    }\n",
       "</style>\n",
       "<table border=\"1\" class=\"dataframe\">\n",
       "  <thead>\n",
       "    <tr style=\"text-align: right;\">\n",
       "      <th></th>\n",
       "      <th>age</th>\n",
       "      <th>fnlwgt</th>\n",
       "      <th>education.num</th>\n",
       "      <th>capital.gain</th>\n",
       "      <th>capital.loss</th>\n",
       "      <th>hours.per.week</th>\n",
       "    </tr>\n",
       "  </thead>\n",
       "  <tbody>\n",
       "    <tr>\n",
       "      <th>age</th>\n",
       "      <td>1.000000</td>\n",
       "      <td>-0.076646</td>\n",
       "      <td>0.036527</td>\n",
       "      <td>0.077674</td>\n",
       "      <td>0.057775</td>\n",
       "      <td>0.068756</td>\n",
       "    </tr>\n",
       "    <tr>\n",
       "      <th>fnlwgt</th>\n",
       "      <td>-0.076646</td>\n",
       "      <td>1.000000</td>\n",
       "      <td>-0.043195</td>\n",
       "      <td>0.000432</td>\n",
       "      <td>-0.010252</td>\n",
       "      <td>-0.018768</td>\n",
       "    </tr>\n",
       "    <tr>\n",
       "      <th>education.num</th>\n",
       "      <td>0.036527</td>\n",
       "      <td>-0.043195</td>\n",
       "      <td>1.000000</td>\n",
       "      <td>0.122630</td>\n",
       "      <td>0.079923</td>\n",
       "      <td>0.148123</td>\n",
       "    </tr>\n",
       "    <tr>\n",
       "      <th>capital.gain</th>\n",
       "      <td>0.077674</td>\n",
       "      <td>0.000432</td>\n",
       "      <td>0.122630</td>\n",
       "      <td>1.000000</td>\n",
       "      <td>-0.031615</td>\n",
       "      <td>0.078409</td>\n",
       "    </tr>\n",
       "    <tr>\n",
       "      <th>capital.loss</th>\n",
       "      <td>0.057775</td>\n",
       "      <td>-0.010252</td>\n",
       "      <td>0.079923</td>\n",
       "      <td>-0.031615</td>\n",
       "      <td>1.000000</td>\n",
       "      <td>0.054256</td>\n",
       "    </tr>\n",
       "    <tr>\n",
       "      <th>hours.per.week</th>\n",
       "      <td>0.068756</td>\n",
       "      <td>-0.018768</td>\n",
       "      <td>0.148123</td>\n",
       "      <td>0.078409</td>\n",
       "      <td>0.054256</td>\n",
       "      <td>1.000000</td>\n",
       "    </tr>\n",
       "  </tbody>\n",
       "</table>\n",
       "</div>"
      ],
      "text/plain": [
       "                     age    fnlwgt  education.num  capital.gain  capital.loss  \\\n",
       "age             1.000000 -0.076646       0.036527      0.077674      0.057775   \n",
       "fnlwgt         -0.076646  1.000000      -0.043195      0.000432     -0.010252   \n",
       "education.num   0.036527 -0.043195       1.000000      0.122630      0.079923   \n",
       "capital.gain    0.077674  0.000432       0.122630      1.000000     -0.031615   \n",
       "capital.loss    0.057775 -0.010252       0.079923     -0.031615      1.000000   \n",
       "hours.per.week  0.068756 -0.018768       0.148123      0.078409      0.054256   \n",
       "\n",
       "                hours.per.week  \n",
       "age                   0.068756  \n",
       "fnlwgt               -0.018768  \n",
       "education.num         0.148123  \n",
       "capital.gain          0.078409  \n",
       "capital.loss          0.054256  \n",
       "hours.per.week        1.000000  "
      ]
     },
     "execution_count": 20,
     "metadata": {},
     "output_type": "execute_result"
    }
   ],
   "source": [
    "#Here we are finding out the Correlation between the each numerical variable.\n",
    "\n",
    "corr=adult_df.corr()\n",
    "corr"
   ]
  },
  {
   "cell_type": "markdown",
   "id": "0fd20abf",
   "metadata": {
    "ExecuteTime": {
     "end_time": "2023-05-15T14:06:46.646394Z",
     "start_time": "2023-05-15T14:06:46.630275Z"
    }
   },
   "source": [
    "### from the correlation matrix, we can see that the \"age and \"hours.per.week\" has POSITIVE CORRELATION.if age gets increases hours.per.week also get increases."
   ]
  },
  {
   "cell_type": "code",
   "execution_count": 22,
   "id": "4acb0160",
   "metadata": {
    "ExecuteTime": {
     "end_time": "2023-05-15T14:07:12.279664Z",
     "start_time": "2023-05-15T14:07:11.850010Z"
    }
   },
   "outputs": [
    {
     "data": {
      "text/plain": [
       "<AxesSubplot: >"
      ]
     },
     "execution_count": 22,
     "metadata": {},
     "output_type": "execute_result"
    },
    {
     "data": {
      "image/png": "[encoded data removed]",
      "text/plain": [
       "<Figure size 640x480 with 2 Axes>"
      ]
     },
     "metadata": {},
     "output_type": "display_data"
    }
   ],
   "source": [
    "#Here we are plotting the heat map for the correlation matrix\n",
    "\n",
    "sns.heatmap(corr,annot=True)"
   ]
  },
  {
   "cell_type": "markdown",
   "id": "0bac5694",
   "metadata": {},
   "source": [
    "### Since, AGE and HOURS.PER.WEEK has Positive correlation. so, if age INCREASES correspondingly hours.per.week also INCREASES\n",
    "## 11.Is there any individual with age less than 18 and capital loss less than 100?"
   ]
  },
  {
   "cell_type": "code",
   "execution_count": 23,
   "id": "7c5a7b9a",
   "metadata": {
    "ExecuteTime": {
     "end_time": "2023-05-15T14:07:49.729017Z",
     "start_time": "2023-05-15T14:07:49.690564Z"
    }
   },
   "outputs": [
    {
     "data": {
      "text/html": [
       "<div>\n",
       "<style scoped>\n",
       "    .dataframe tbody tr th:only-of-type {\n",
       "        vertical-align: middle;\n",
       "    }\n",
       "\n",
       "    .dataframe tbody tr th {\n",
       "        vertical-align: top;\n",
       "    }\n",
       "\n",
       "    .dataframe thead th {\n",
       "        text-align: right;\n",
       "    }\n",
       "</style>\n",
       "<table border=\"1\" class=\"dataframe\">\n",
       "  <thead>\n",
       "    <tr style=\"text-align: right;\">\n",
       "      <th></th>\n",
       "      <th>age</th>\n",
       "      <th>workclass</th>\n",
       "      <th>fnlwgt</th>\n",
       "      <th>education</th>\n",
       "      <th>education.num</th>\n",
       "      <th>marital.status</th>\n",
       "      <th>occupation</th>\n",
       "      <th>relationship</th>\n",
       "      <th>race</th>\n",
       "      <th>sex</th>\n",
       "      <th>capital.gain</th>\n",
       "      <th>capital.loss</th>\n",
       "      <th>hours.per.week</th>\n",
       "      <th>native.country</th>\n",
       "      <th>income</th>\n",
       "    </tr>\n",
       "  </thead>\n",
       "  <tbody>\n",
       "    <tr>\n",
       "      <th>1680</th>\n",
       "      <td>17</td>\n",
       "      <td>NaN</td>\n",
       "      <td>304873</td>\n",
       "      <td>10th</td>\n",
       "      <td>6</td>\n",
       "      <td>Never-married</td>\n",
       "      <td>NaN</td>\n",
       "      <td>Own-child</td>\n",
       "      <td>White</td>\n",
       "      <td>Female</td>\n",
       "      <td>34095</td>\n",
       "      <td>0</td>\n",
       "      <td>32</td>\n",
       "      <td>United-States</td>\n",
       "      <td>&lt;=50K</td>\n",
       "    </tr>\n",
       "    <tr>\n",
       "      <th>3987</th>\n",
       "      <td>17</td>\n",
       "      <td>Private</td>\n",
       "      <td>175024</td>\n",
       "      <td>11th</td>\n",
       "      <td>7</td>\n",
       "      <td>Never-married</td>\n",
       "      <td>Handlers-cleaners</td>\n",
       "      <td>Own-child</td>\n",
       "      <td>White</td>\n",
       "      <td>Male</td>\n",
       "      <td>2176</td>\n",
       "      <td>0</td>\n",
       "      <td>18</td>\n",
       "      <td>United-States</td>\n",
       "      <td>&lt;=50K</td>\n",
       "    </tr>\n",
       "    <tr>\n",
       "      <th>4151</th>\n",
       "      <td>17</td>\n",
       "      <td>Private</td>\n",
       "      <td>191260</td>\n",
       "      <td>9th</td>\n",
       "      <td>5</td>\n",
       "      <td>Never-married</td>\n",
       "      <td>Other-service</td>\n",
       "      <td>Own-child</td>\n",
       "      <td>White</td>\n",
       "      <td>Male</td>\n",
       "      <td>1055</td>\n",
       "      <td>0</td>\n",
       "      <td>24</td>\n",
       "      <td>United-States</td>\n",
       "      <td>&lt;=50K</td>\n",
       "    </tr>\n",
       "    <tr>\n",
       "      <th>4154</th>\n",
       "      <td>17</td>\n",
       "      <td>NaN</td>\n",
       "      <td>333100</td>\n",
       "      <td>10th</td>\n",
       "      <td>6</td>\n",
       "      <td>Never-married</td>\n",
       "      <td>NaN</td>\n",
       "      <td>Own-child</td>\n",
       "      <td>White</td>\n",
       "      <td>Male</td>\n",
       "      <td>1055</td>\n",
       "      <td>0</td>\n",
       "      <td>30</td>\n",
       "      <td>United-States</td>\n",
       "      <td>&lt;=50K</td>\n",
       "    </tr>\n",
       "    <tr>\n",
       "      <th>4156</th>\n",
       "      <td>17</td>\n",
       "      <td>Private</td>\n",
       "      <td>103851</td>\n",
       "      <td>11th</td>\n",
       "      <td>7</td>\n",
       "      <td>Never-married</td>\n",
       "      <td>Adm-clerical</td>\n",
       "      <td>Own-child</td>\n",
       "      <td>White</td>\n",
       "      <td>Female</td>\n",
       "      <td>1055</td>\n",
       "      <td>0</td>\n",
       "      <td>20</td>\n",
       "      <td>United-States</td>\n",
       "      <td>&lt;=50K</td>\n",
       "    </tr>\n",
       "    <tr>\n",
       "      <th>...</th>\n",
       "      <td>...</td>\n",
       "      <td>...</td>\n",
       "      <td>...</td>\n",
       "      <td>...</td>\n",
       "      <td>...</td>\n",
       "      <td>...</td>\n",
       "      <td>...</td>\n",
       "      <td>...</td>\n",
       "      <td>...</td>\n",
       "      <td>...</td>\n",
       "      <td>...</td>\n",
       "      <td>...</td>\n",
       "      <td>...</td>\n",
       "      <td>...</td>\n",
       "      <td>...</td>\n",
       "    </tr>\n",
       "    <tr>\n",
       "      <th>31869</th>\n",
       "      <td>17</td>\n",
       "      <td>NaN</td>\n",
       "      <td>256173</td>\n",
       "      <td>10th</td>\n",
       "      <td>6</td>\n",
       "      <td>Never-married</td>\n",
       "      <td>NaN</td>\n",
       "      <td>Own-child</td>\n",
       "      <td>White</td>\n",
       "      <td>Female</td>\n",
       "      <td>0</td>\n",
       "      <td>0</td>\n",
       "      <td>15</td>\n",
       "      <td>United-States</td>\n",
       "      <td>&lt;=50K</td>\n",
       "    </tr>\n",
       "    <tr>\n",
       "      <th>31948</th>\n",
       "      <td>17</td>\n",
       "      <td>Private</td>\n",
       "      <td>214787</td>\n",
       "      <td>12th</td>\n",
       "      <td>8</td>\n",
       "      <td>Never-married</td>\n",
       "      <td>Adm-clerical</td>\n",
       "      <td>Own-child</td>\n",
       "      <td>White</td>\n",
       "      <td>Female</td>\n",
       "      <td>0</td>\n",
       "      <td>0</td>\n",
       "      <td>25</td>\n",
       "      <td>United-States</td>\n",
       "      <td>&lt;=50K</td>\n",
       "    </tr>\n",
       "    <tr>\n",
       "      <th>32035</th>\n",
       "      <td>17</td>\n",
       "      <td>Private</td>\n",
       "      <td>24090</td>\n",
       "      <td>HS-grad</td>\n",
       "      <td>9</td>\n",
       "      <td>Never-married</td>\n",
       "      <td>Exec-managerial</td>\n",
       "      <td>Own-child</td>\n",
       "      <td>White</td>\n",
       "      <td>Female</td>\n",
       "      <td>0</td>\n",
       "      <td>0</td>\n",
       "      <td>35</td>\n",
       "      <td>United-States</td>\n",
       "      <td>&lt;=50K</td>\n",
       "    </tr>\n",
       "    <tr>\n",
       "      <th>32310</th>\n",
       "      <td>17</td>\n",
       "      <td>Private</td>\n",
       "      <td>311907</td>\n",
       "      <td>11th</td>\n",
       "      <td>7</td>\n",
       "      <td>Never-married</td>\n",
       "      <td>Other-service</td>\n",
       "      <td>Own-child</td>\n",
       "      <td>White</td>\n",
       "      <td>Male</td>\n",
       "      <td>0</td>\n",
       "      <td>0</td>\n",
       "      <td>25</td>\n",
       "      <td>United-States</td>\n",
       "      <td>&lt;=50K</td>\n",
       "    </tr>\n",
       "    <tr>\n",
       "      <th>32457</th>\n",
       "      <td>17</td>\n",
       "      <td>Private</td>\n",
       "      <td>117798</td>\n",
       "      <td>10th</td>\n",
       "      <td>6</td>\n",
       "      <td>Never-married</td>\n",
       "      <td>Other-service</td>\n",
       "      <td>Own-child</td>\n",
       "      <td>White</td>\n",
       "      <td>Male</td>\n",
       "      <td>0</td>\n",
       "      <td>0</td>\n",
       "      <td>20</td>\n",
       "      <td>United-States</td>\n",
       "      <td>&lt;=50K</td>\n",
       "    </tr>\n",
       "  </tbody>\n",
       "</table>\n",
       "<p>385 rows × 15 columns</p>\n",
       "</div>"
      ],
      "text/plain": [
       "       age workclass  fnlwgt education  education.num marital.status  \\\n",
       "1680    17       NaN  304873      10th              6  Never-married   \n",
       "3987    17   Private  175024      11th              7  Never-married   \n",
       "4151    17   Private  191260       9th              5  Never-married   \n",
       "4154    17       NaN  333100      10th              6  Never-married   \n",
       "4156    17   Private  103851      11th              7  Never-married   \n",
       "...    ...       ...     ...       ...            ...            ...   \n",
       "31869   17       NaN  256173      10th              6  Never-married   \n",
       "31948   17   Private  214787      12th              8  Never-married   \n",
       "32035   17   Private   24090   HS-grad              9  Never-married   \n",
       "32310   17   Private  311907      11th              7  Never-married   \n",
       "32457   17   Private  117798      10th              6  Never-married   \n",
       "\n",
       "              occupation relationship   race     sex  capital.gain  \\\n",
       "1680                 NaN    Own-child  White  Female         34095   \n",
       "3987   Handlers-cleaners    Own-child  White    Male          2176   \n",
       "4151       Other-service    Own-child  White    Male          1055   \n",
       "4154                 NaN    Own-child  White    Male          1055   \n",
       "4156        Adm-clerical    Own-child  White  Female          1055   \n",
       "...                  ...          ...    ...     ...           ...   \n",
       "31869                NaN    Own-child  White  Female             0   \n",
       "31948       Adm-clerical    Own-child  White  Female             0   \n",
       "32035    Exec-managerial    Own-child  White  Female             0   \n",
       "32310      Other-service    Own-child  White    Male             0   \n",
       "32457      Other-service    Own-child  White    Male             0   \n",
       "\n",
       "       capital.loss  hours.per.week native.country income  \n",
       "1680              0              32  United-States  <=50K  \n",
       "3987              0              18  United-States  <=50K  \n",
       "4151              0              24  United-States  <=50K  \n",
       "4154              0              30  United-States  <=50K  \n",
       "4156              0              20  United-States  <=50K  \n",
       "...             ...             ...            ...    ...  \n",
       "31869             0              15  United-States  <=50K  \n",
       "31948             0              25  United-States  <=50K  \n",
       "32035             0              35  United-States  <=50K  \n",
       "32310             0              25  United-States  <=50K  \n",
       "32457             0              20  United-States  <=50K  \n",
       "\n",
       "[385 rows x 15 columns]"
      ]
     },
     "execution_count": 23,
     "metadata": {},
     "output_type": "execute_result"
    }
   ],
   "source": [
    "#Here we are filtering the dataset whose age is less than 18 and capital.loss is less than 100. \n",
    "\n",
    "adult_df[(adult_df['age']<18) & (adult_df['capital.loss']<100)]"
   ]
  },
  {
   "cell_type": "markdown",
   "id": "9e403a02",
   "metadata": {
    "ExecuteTime": {
     "end_time": "2023-05-15T14:08:11.086958Z",
     "start_time": "2023-05-15T14:08:11.077311Z"
    }
   },
   "source": [
    "### There are 385 individuals.\n",
    "### These are the individuals, who has the age less than 18 and capital.loss less than 100\n",
    "## 12.Which occupation has the highest number of males?"
   ]
  },
  {
   "cell_type": "code",
   "execution_count": 25,
   "id": "d6b66b4a",
   "metadata": {
    "ExecuteTime": {
     "end_time": "2023-05-15T14:08:27.862457Z",
     "start_time": "2023-05-15T14:08:27.835721Z"
    }
   },
   "outputs": [],
   "source": [
    "#Here we are filerting only the males from the Dataset.\n",
    "\n",
    "male_count=adult_df[adult_df['sex']=='Male']"
   ]
  },
  {
   "cell_type": "code",
   "execution_count": 26,
   "id": "2f082d97",
   "metadata": {
    "ExecuteTime": {
     "end_time": "2023-05-15T14:08:39.012354Z",
     "start_time": "2023-05-15T14:08:38.977899Z"
    }
   },
   "outputs": [
    {
     "data": {
      "text/plain": [
       "occupation         sex \n",
       "Craft-repair       Male    3877\n",
       "Exec-managerial    Male    2907\n",
       "Prof-specialty     Male    2625\n",
       "Sales              Male    2387\n",
       "Transport-moving   Male    1507\n",
       "Other-service      Male    1495\n",
       "Machine-op-inspct  Male    1452\n",
       "Adm-clerical       Male    1233\n",
       "Handlers-cleaners  Male    1206\n",
       "Farming-fishing    Male     929\n",
       "Tech-support       Male     580\n",
       "Protective-serv    Male     573\n",
       "Armed-Forces       Male       9\n",
       "Priv-house-serv    Male       8\n",
       "Name: sex, dtype: int64"
      ]
     },
     "execution_count": 26,
     "metadata": {},
     "output_type": "execute_result"
    }
   ],
   "source": [
    "#Here we are grouping the \"occupation\" and \"sex\" and counting the no.of males in the each occupation.\n",
    "\n",
    "male_count.groupby(['occupation','sex'])['sex'].count().sort_values(ascending=False)"
   ]
  },
  {
   "cell_type": "markdown",
   "id": "ad62e0dd",
   "metadata": {},
   "source": [
    "### From the above data , we can see that \"CRAFT-REPAIR\" has the highest number of males.\n",
    "## 13.Analyze the trend of the capital gain amount for different educational qualifications and write your observations."
   ]
  },
  {
   "cell_type": "code",
   "execution_count": 27,
   "id": "3bb03d53",
   "metadata": {
    "ExecuteTime": {
     "end_time": "2023-05-15T14:09:11.830607Z",
     "start_time": "2023-05-15T14:09:11.807578Z"
    }
   },
   "outputs": [],
   "source": [
    "# Here we are groping the \"education\" column and calculating the mean for \"capital.gain\" \n",
    "\n",
    "trend=adult_df.groupby('education')['capital.gain'].mean().to_frame().reset_index().sort_values(by='capital.gain')"
   ]
  },
  {
   "cell_type": "code",
   "execution_count": 28,
   "id": "fac3d1a9",
   "metadata": {
    "ExecuteTime": {
     "end_time": "2023-05-15T14:09:20.552266Z",
     "start_time": "2023-05-15T14:09:20.283362Z"
    }
   },
   "outputs": [
    {
     "data": {
      "text/plain": [
       "<AxesSubplot: xlabel='education'>"
      ]
     },
     "execution_count": 28,
     "metadata": {},
     "output_type": "execute_result"
    },
    {
     "data": {
      "image/png": "[encoded data removed]",
      "text/plain": [
       "<Figure size 1400x500 with 1 Axes>"
      ]
     },
     "metadata": {},
     "output_type": "display_data"
    }
   ],
   "source": [
    "#Here we are plotting the line plot, keeping education as x-axis and capital.gain as y-axis.\n",
    "\n",
    "trend.plot.line(x='education',y='capital.gain',figsize=(14,5))\n"
   ]
  },
  {
   "cell_type": "markdown",
   "id": "b1fb32d9",
   "metadata": {},
   "source": [
    "### from the graph we can see than, the one who has the highest qualification(PROF-SCHOOL) has the highest capital.gain and the capital gain is less for the basic qualification\n",
    "## 14.Compare the working hours for each working class and write your observations."
   ]
  },
  {
   "cell_type": "code",
   "execution_count": 29,
   "id": "e0dc8f2d",
   "metadata": {
    "ExecuteTime": {
     "end_time": "2023-05-15T14:09:55.434759Z",
     "start_time": "2023-05-15T14:09:55.409138Z"
    }
   },
   "outputs": [
    {
     "data": {
      "text/plain": [
       "workclass\n",
       "Self-emp-inc        48.818100\n",
       "Self-emp-not-inc    44.421881\n",
       "Federal-gov         41.379167\n",
       "Local-gov           40.982800\n",
       "Private             40.267096\n",
       "State-gov           39.031587\n",
       "Without-pay         32.714286\n",
       "Never-worked        28.428571\n",
       "Name: hours.per.week, dtype: float64"
      ]
     },
     "execution_count": 29,
     "metadata": {},
     "output_type": "execute_result"
    }
   ],
   "source": [
    "#Here we are grouping by workclass and calculating the mean for the hour.per.week \n",
    "\n",
    "adult_df.groupby('workclass')['hours.per.week'].mean().sort_values(ascending=False)\n"
   ]
  },
  {
   "cell_type": "markdown",
   "id": "d61f7b12",
   "metadata": {
    "ExecuteTime": {
     "end_time": "2023-05-15T14:10:22.840694Z",
     "start_time": "2023-05-15T14:10:22.827117Z"
    }
   },
   "source": [
    "### Self-employee-inc has the highest working hours and never-worked category has the least working hours.\n",
    "## 15.Is there an all male profession according to the data?"
   ]
  },
  {
   "cell_type": "code",
   "execution_count": 31,
   "id": "f1b5ec52",
   "metadata": {
    "ExecuteTime": {
     "end_time": "2023-05-15T14:10:41.417639Z",
     "start_time": "2023-05-15T14:10:41.389991Z"
    }
   },
   "outputs": [
    {
     "data": {
      "text/plain": [
       "occupation\n",
       "Adm-clerical         2537\n",
       "Armed-Forces            0\n",
       "Craft-repair          222\n",
       "Exec-managerial      1159\n",
       "Farming-fishing        65\n",
       "Handlers-cleaners     164\n",
       "Machine-op-inspct     550\n",
       "Other-service        1800\n",
       "Priv-house-serv       141\n",
       "Prof-specialty       1515\n",
       "Protective-serv        76\n",
       "Sales                1263\n",
       "Tech-support          348\n",
       "Transport-moving       90\n",
       "Name: is_female, dtype: int32"
      ]
     },
     "execution_count": 31,
     "metadata": {},
     "output_type": "execute_result"
    }
   ],
   "source": [
    "adult_df['is_female']=np.where(adult_df.sex=='Female',1,0)\n",
    "\n",
    "(adult_df.groupby('occupation').is_female.sum())"
   ]
  },
  {
   "cell_type": "markdown",
   "id": "3fbcaf04",
   "metadata": {
    "ExecuteTime": {
     "end_time": "2023-05-15T14:10:55.173963Z",
     "start_time": "2023-05-15T14:10:55.170459Z"
    }
   },
   "source": [
    "### Armed Forces is the only proffession in the Dataset, which doesn't have any female proffessions. adm-clercial is the highest female proffession."
   ]
  },
  {
   "cell_type": "code",
   "execution_count": null,
   "id": "bc52a53e",
   "metadata": {},
   "outputs": [],
   "source": []
  }
 ],
 "metadata": {
  "kernelspec": {
   "display_name": "Python 3 (ipykernel)",
   "language": "python",
   "name": "python3"
  },
  "language_info": {
   "codemirror_mode": {
    "name": "ipython",
    "version": 3
   },
   "file_extension": ".py",
   "mimetype": "text/x-python",
   "name": "python",
   "nbconvert_exporter": "python",
   "pygments_lexer": "ipython3",
   "version": "3.9.13"
  }
 },
 "nbformat": 4,
 "nbformat_minor": 5
}
